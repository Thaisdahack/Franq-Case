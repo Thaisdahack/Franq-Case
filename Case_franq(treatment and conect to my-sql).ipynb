{
 "cells": [
  {
   "cell_type": "markdown",
   "id": "afd2b4e4",
   "metadata": {},
   "source": [
    "## Treatment of CSV_file"
   ]
  },
  {
   "cell_type": "code",
   "execution_count": 1,
   "id": "0947b926",
   "metadata": {
    "ExecuteTime": {
     "end_time": "2022-06-15T18:58:35.455876Z",
     "start_time": "2022-06-15T18:58:35.440295Z"
    }
   },
   "outputs": [],
   "source": [
    "## Importing libraries"
   ]
  },
  {
   "cell_type": "code",
   "execution_count": 3,
   "id": "f89d3b94",
   "metadata": {
    "ExecuteTime": {
     "end_time": "2022-06-15T18:59:27.723456Z",
     "start_time": "2022-06-15T18:59:27.704543Z"
    }
   },
   "outputs": [],
   "source": [
    "import pandas as pd\n"
   ]
  },
  {
   "cell_type": "code",
   "execution_count": 15,
   "id": "64338e59",
   "metadata": {
    "ExecuteTime": {
     "end_time": "2022-06-15T19:21:47.518647Z",
     "start_time": "2022-06-15T19:21:47.263918Z"
    }
   },
   "outputs": [],
   "source": [
    "# reading csv_file\n",
    "\n",
    "base = pd.read_csv('base_teste_ad_1_csv.csv', ';')"
   ]
  },
  {
   "cell_type": "code",
   "execution_count": 16,
   "id": "2997b302",
   "metadata": {
    "ExecuteTime": {
     "end_time": "2022-06-15T19:21:49.812587Z",
     "start_time": "2022-06-15T19:21:49.779088Z"
    }
   },
   "outputs": [
    {
     "data": {
      "text/html": [
       "<div>\n",
       "<style scoped>\n",
       "    .dataframe tbody tr th:only-of-type {\n",
       "        vertical-align: middle;\n",
       "    }\n",
       "\n",
       "    .dataframe tbody tr th {\n",
       "        vertical-align: top;\n",
       "    }\n",
       "\n",
       "    .dataframe thead th {\n",
       "        text-align: right;\n",
       "    }\n",
       "</style>\n",
       "<table border=\"1\" class=\"dataframe\">\n",
       "  <thead>\n",
       "    <tr style=\"text-align: right;\">\n",
       "      <th></th>\n",
       "      <th>data_solicitacao</th>\n",
       "      <th>data_venda</th>\n",
       "      <th>data_pagto</th>\n",
       "      <th>valor_venda</th>\n",
       "      <th>pol_comissao</th>\n",
       "      <th>valor_comissao</th>\n",
       "      <th>estado_cliente</th>\n",
       "      <th>estado_vendedor</th>\n",
       "      <th>produto</th>\n",
       "      <th>vendedor_id</th>\n",
       "      <th>Unnamed: 10</th>\n",
       "      <th>Unnamed: 11</th>\n",
       "    </tr>\n",
       "  </thead>\n",
       "  <tbody>\n",
       "    <tr>\n",
       "      <th>0</th>\n",
       "      <td>13/01/2021</td>\n",
       "      <td>12/01/2021</td>\n",
       "      <td>01/02/2021</td>\n",
       "      <td>NaN</td>\n",
       "      <td>un.</td>\n",
       "      <td>750.0</td>\n",
       "      <td>SC</td>\n",
       "      <td>PR</td>\n",
       "      <td>A</td>\n",
       "      <td>V_1</td>\n",
       "      <td>NaN</td>\n",
       "      <td>NaN</td>\n",
       "    </tr>\n",
       "    <tr>\n",
       "      <th>1</th>\n",
       "      <td>14/02/2021</td>\n",
       "      <td>16/02/2021</td>\n",
       "      <td>01/03/2021</td>\n",
       "      <td>NaN</td>\n",
       "      <td>un.</td>\n",
       "      <td>750.0</td>\n",
       "      <td>SC</td>\n",
       "      <td>PR</td>\n",
       "      <td>A</td>\n",
       "      <td>V_1</td>\n",
       "      <td>NaN</td>\n",
       "      <td>NaN</td>\n",
       "    </tr>\n",
       "    <tr>\n",
       "      <th>2</th>\n",
       "      <td>17/02/2021</td>\n",
       "      <td>18/02/2021</td>\n",
       "      <td>01/03/2021</td>\n",
       "      <td>NaN</td>\n",
       "      <td>un.</td>\n",
       "      <td>750.0</td>\n",
       "      <td>NaN</td>\n",
       "      <td>PR</td>\n",
       "      <td>A</td>\n",
       "      <td>V_23</td>\n",
       "      <td>NaN</td>\n",
       "      <td>NaN</td>\n",
       "    </tr>\n",
       "    <tr>\n",
       "      <th>3</th>\n",
       "      <td>21/03/2021</td>\n",
       "      <td>25/03/2021</td>\n",
       "      <td>01/04/2021</td>\n",
       "      <td>NaN</td>\n",
       "      <td>un.</td>\n",
       "      <td>750.0</td>\n",
       "      <td>NaN</td>\n",
       "      <td>PR</td>\n",
       "      <td>A</td>\n",
       "      <td>V_23</td>\n",
       "      <td>NaN</td>\n",
       "      <td>NaN</td>\n",
       "    </tr>\n",
       "    <tr>\n",
       "      <th>4</th>\n",
       "      <td>29/01/2021</td>\n",
       "      <td>31/01/2021</td>\n",
       "      <td>01/03/2021</td>\n",
       "      <td>NaN</td>\n",
       "      <td>un.</td>\n",
       "      <td>750.0</td>\n",
       "      <td>NaN</td>\n",
       "      <td>PR</td>\n",
       "      <td>A</td>\n",
       "      <td>V_30</td>\n",
       "      <td>NaN</td>\n",
       "      <td>NaN</td>\n",
       "    </tr>\n",
       "  </tbody>\n",
       "</table>\n",
       "</div>"
      ],
      "text/plain": [
       "  data_solicitacao  data_venda  data_pagto  valor_venda pol_comissao  \\\n",
       "0       13/01/2021  12/01/2021  01/02/2021          NaN          un.   \n",
       "1       14/02/2021  16/02/2021  01/03/2021          NaN          un.   \n",
       "2       17/02/2021  18/02/2021  01/03/2021          NaN          un.   \n",
       "3       21/03/2021  25/03/2021  01/04/2021          NaN          un.   \n",
       "4       29/01/2021  31/01/2021  01/03/2021          NaN          un.   \n",
       "\n",
       "   valor_comissao estado_cliente estado_vendedor produto vendedor_id  \\\n",
       "0           750.0             SC              PR       A         V_1   \n",
       "1           750.0             SC              PR       A         V_1   \n",
       "2           750.0            NaN              PR       A        V_23   \n",
       "3           750.0            NaN              PR       A        V_23   \n",
       "4           750.0            NaN              PR       A        V_30   \n",
       "\n",
       "   Unnamed: 10  Unnamed: 11  \n",
       "0          NaN          NaN  \n",
       "1          NaN          NaN  \n",
       "2          NaN          NaN  \n",
       "3          NaN          NaN  \n",
       "4          NaN          NaN  "
      ]
     },
     "execution_count": 16,
     "metadata": {},
     "output_type": "execute_result"
    }
   ],
   "source": [
    "base.head()"
   ]
  },
  {
   "cell_type": "markdown",
   "id": "41fe42dd",
   "metadata": {
    "ExecuteTime": {
     "end_time": "2022-06-15T19:24:45.306383Z",
     "start_time": "2022-06-15T19:24:45.220878Z"
    }
   },
   "source": [
    "## Treatment of dataframe"
   ]
  },
  {
   "cell_type": "code",
   "execution_count": 19,
   "id": "b52a45b3",
   "metadata": {
    "ExecuteTime": {
     "end_time": "2022-06-15T19:25:53.311626Z",
     "start_time": "2022-06-15T19:25:53.197425Z"
    }
   },
   "outputs": [
    {
     "name": "stdout",
     "output_type": "stream",
     "text": [
      "<class 'pandas.core.frame.DataFrame'>\n",
      "RangeIndex: 999 entries, 0 to 998\n",
      "Data columns (total 12 columns):\n",
      " #   Column            Non-Null Count  Dtype  \n",
      "---  ------            --------------  -----  \n",
      " 0   data_solicitacao  98 non-null     object \n",
      " 1   data_venda        98 non-null     object \n",
      " 2   data_pagto        91 non-null     object \n",
      " 3   valor_venda       38 non-null     float64\n",
      " 4   pol_comissao      98 non-null     object \n",
      " 5   valor_comissao    91 non-null     float64\n",
      " 6   estado_cliente    34 non-null     object \n",
      " 7   estado_vendedor   98 non-null     object \n",
      " 8   produto           98 non-null     object \n",
      " 9   vendedor_id       98 non-null     object \n",
      " 10  Unnamed: 10       0 non-null      float64\n",
      " 11  Unnamed: 11       0 non-null      float64\n",
      "dtypes: float64(4), object(8)\n",
      "memory usage: 93.8+ KB\n"
     ]
    }
   ],
   "source": [
    "#checking null values\n",
    "base.info()"
   ]
  },
  {
   "cell_type": "code",
   "execution_count": null,
   "id": "22f266e0",
   "metadata": {},
   "outputs": [],
   "source": [
    "#dropping columns"
   ]
  },
  {
   "cell_type": "code",
   "execution_count": 34,
   "id": "c0bdccc5",
   "metadata": {
    "ExecuteTime": {
     "end_time": "2022-06-15T19:44:07.120046Z",
     "start_time": "2022-06-15T19:44:07.093134Z"
    }
   },
   "outputs": [
    {
     "ename": "KeyError",
     "evalue": "\"['Unnamed: 10' 'Unnamed: 11'] not found in axis\"",
     "output_type": "error",
     "traceback": [
      "\u001b[1;31m---------------------------------------------------------------------------\u001b[0m",
      "\u001b[1;31mKeyError\u001b[0m                                  Traceback (most recent call last)",
      "\u001b[1;32m<ipython-input-34-fc52f6fe9d39>\u001b[0m in \u001b[0;36m<module>\u001b[1;34m\u001b[0m\n\u001b[1;32m----> 1\u001b[1;33m \u001b[0mbase\u001b[0m \u001b[1;33m=\u001b[0m \u001b[0mbase\u001b[0m\u001b[1;33m.\u001b[0m\u001b[0mdrop\u001b[0m\u001b[1;33m(\u001b[0m\u001b[0mcolumns\u001b[0m\u001b[1;33m=\u001b[0m\u001b[1;33m[\u001b[0m\u001b[1;34m'Unnamed: 10'\u001b[0m\u001b[1;33m,\u001b[0m\u001b[1;34m'Unnamed: 11'\u001b[0m\u001b[1;33m]\u001b[0m\u001b[1;33m,\u001b[0m \u001b[0minplace\u001b[0m\u001b[1;33m=\u001b[0m\u001b[1;32mTrue\u001b[0m\u001b[1;33m)\u001b[0m\u001b[1;33m\u001b[0m\u001b[1;33m\u001b[0m\u001b[0m\n\u001b[0m",
      "\u001b[1;32m~\\anaconda3\\lib\\site-packages\\pandas\\core\\frame.py\u001b[0m in \u001b[0;36mdrop\u001b[1;34m(self, labels, axis, index, columns, level, inplace, errors)\u001b[0m\n\u001b[0;32m   4306\u001b[0m                 \u001b[0mweight\u001b[0m  \u001b[1;36m1.0\u001b[0m     \u001b[1;36m0.8\u001b[0m\u001b[1;33m\u001b[0m\u001b[1;33m\u001b[0m\u001b[0m\n\u001b[0;32m   4307\u001b[0m         \"\"\"\n\u001b[1;32m-> 4308\u001b[1;33m         return super().drop(\n\u001b[0m\u001b[0;32m   4309\u001b[0m             \u001b[0mlabels\u001b[0m\u001b[1;33m=\u001b[0m\u001b[0mlabels\u001b[0m\u001b[1;33m,\u001b[0m\u001b[1;33m\u001b[0m\u001b[1;33m\u001b[0m\u001b[0m\n\u001b[0;32m   4310\u001b[0m             \u001b[0maxis\u001b[0m\u001b[1;33m=\u001b[0m\u001b[0maxis\u001b[0m\u001b[1;33m,\u001b[0m\u001b[1;33m\u001b[0m\u001b[1;33m\u001b[0m\u001b[0m\n",
      "\u001b[1;32m~\\anaconda3\\lib\\site-packages\\pandas\\core\\generic.py\u001b[0m in \u001b[0;36mdrop\u001b[1;34m(self, labels, axis, index, columns, level, inplace, errors)\u001b[0m\n\u001b[0;32m   4151\u001b[0m         \u001b[1;32mfor\u001b[0m \u001b[0maxis\u001b[0m\u001b[1;33m,\u001b[0m \u001b[0mlabels\u001b[0m \u001b[1;32min\u001b[0m \u001b[0maxes\u001b[0m\u001b[1;33m.\u001b[0m\u001b[0mitems\u001b[0m\u001b[1;33m(\u001b[0m\u001b[1;33m)\u001b[0m\u001b[1;33m:\u001b[0m\u001b[1;33m\u001b[0m\u001b[1;33m\u001b[0m\u001b[0m\n\u001b[0;32m   4152\u001b[0m             \u001b[1;32mif\u001b[0m \u001b[0mlabels\u001b[0m \u001b[1;32mis\u001b[0m \u001b[1;32mnot\u001b[0m \u001b[1;32mNone\u001b[0m\u001b[1;33m:\u001b[0m\u001b[1;33m\u001b[0m\u001b[1;33m\u001b[0m\u001b[0m\n\u001b[1;32m-> 4153\u001b[1;33m                 \u001b[0mobj\u001b[0m \u001b[1;33m=\u001b[0m \u001b[0mobj\u001b[0m\u001b[1;33m.\u001b[0m\u001b[0m_drop_axis\u001b[0m\u001b[1;33m(\u001b[0m\u001b[0mlabels\u001b[0m\u001b[1;33m,\u001b[0m \u001b[0maxis\u001b[0m\u001b[1;33m,\u001b[0m \u001b[0mlevel\u001b[0m\u001b[1;33m=\u001b[0m\u001b[0mlevel\u001b[0m\u001b[1;33m,\u001b[0m \u001b[0merrors\u001b[0m\u001b[1;33m=\u001b[0m\u001b[0merrors\u001b[0m\u001b[1;33m)\u001b[0m\u001b[1;33m\u001b[0m\u001b[1;33m\u001b[0m\u001b[0m\n\u001b[0m\u001b[0;32m   4154\u001b[0m \u001b[1;33m\u001b[0m\u001b[0m\n\u001b[0;32m   4155\u001b[0m         \u001b[1;32mif\u001b[0m \u001b[0minplace\u001b[0m\u001b[1;33m:\u001b[0m\u001b[1;33m\u001b[0m\u001b[1;33m\u001b[0m\u001b[0m\n",
      "\u001b[1;32m~\\anaconda3\\lib\\site-packages\\pandas\\core\\generic.py\u001b[0m in \u001b[0;36m_drop_axis\u001b[1;34m(self, labels, axis, level, errors)\u001b[0m\n\u001b[0;32m   4186\u001b[0m                 \u001b[0mnew_axis\u001b[0m \u001b[1;33m=\u001b[0m \u001b[0maxis\u001b[0m\u001b[1;33m.\u001b[0m\u001b[0mdrop\u001b[0m\u001b[1;33m(\u001b[0m\u001b[0mlabels\u001b[0m\u001b[1;33m,\u001b[0m \u001b[0mlevel\u001b[0m\u001b[1;33m=\u001b[0m\u001b[0mlevel\u001b[0m\u001b[1;33m,\u001b[0m \u001b[0merrors\u001b[0m\u001b[1;33m=\u001b[0m\u001b[0merrors\u001b[0m\u001b[1;33m)\u001b[0m\u001b[1;33m\u001b[0m\u001b[1;33m\u001b[0m\u001b[0m\n\u001b[0;32m   4187\u001b[0m             \u001b[1;32melse\u001b[0m\u001b[1;33m:\u001b[0m\u001b[1;33m\u001b[0m\u001b[1;33m\u001b[0m\u001b[0m\n\u001b[1;32m-> 4188\u001b[1;33m                 \u001b[0mnew_axis\u001b[0m \u001b[1;33m=\u001b[0m \u001b[0maxis\u001b[0m\u001b[1;33m.\u001b[0m\u001b[0mdrop\u001b[0m\u001b[1;33m(\u001b[0m\u001b[0mlabels\u001b[0m\u001b[1;33m,\u001b[0m \u001b[0merrors\u001b[0m\u001b[1;33m=\u001b[0m\u001b[0merrors\u001b[0m\u001b[1;33m)\u001b[0m\u001b[1;33m\u001b[0m\u001b[1;33m\u001b[0m\u001b[0m\n\u001b[0m\u001b[0;32m   4189\u001b[0m             \u001b[0mresult\u001b[0m \u001b[1;33m=\u001b[0m \u001b[0mself\u001b[0m\u001b[1;33m.\u001b[0m\u001b[0mreindex\u001b[0m\u001b[1;33m(\u001b[0m\u001b[1;33m**\u001b[0m\u001b[1;33m{\u001b[0m\u001b[0maxis_name\u001b[0m\u001b[1;33m:\u001b[0m \u001b[0mnew_axis\u001b[0m\u001b[1;33m}\u001b[0m\u001b[1;33m)\u001b[0m\u001b[1;33m\u001b[0m\u001b[1;33m\u001b[0m\u001b[0m\n\u001b[0;32m   4190\u001b[0m \u001b[1;33m\u001b[0m\u001b[0m\n",
      "\u001b[1;32m~\\anaconda3\\lib\\site-packages\\pandas\\core\\indexes\\base.py\u001b[0m in \u001b[0;36mdrop\u001b[1;34m(self, labels, errors)\u001b[0m\n\u001b[0;32m   5589\u001b[0m         \u001b[1;32mif\u001b[0m \u001b[0mmask\u001b[0m\u001b[1;33m.\u001b[0m\u001b[0many\u001b[0m\u001b[1;33m(\u001b[0m\u001b[1;33m)\u001b[0m\u001b[1;33m:\u001b[0m\u001b[1;33m\u001b[0m\u001b[1;33m\u001b[0m\u001b[0m\n\u001b[0;32m   5590\u001b[0m             \u001b[1;32mif\u001b[0m \u001b[0merrors\u001b[0m \u001b[1;33m!=\u001b[0m \u001b[1;34m\"ignore\"\u001b[0m\u001b[1;33m:\u001b[0m\u001b[1;33m\u001b[0m\u001b[1;33m\u001b[0m\u001b[0m\n\u001b[1;32m-> 5591\u001b[1;33m                 \u001b[1;32mraise\u001b[0m \u001b[0mKeyError\u001b[0m\u001b[1;33m(\u001b[0m\u001b[1;34mf\"{labels[mask]} not found in axis\"\u001b[0m\u001b[1;33m)\u001b[0m\u001b[1;33m\u001b[0m\u001b[1;33m\u001b[0m\u001b[0m\n\u001b[0m\u001b[0;32m   5592\u001b[0m             \u001b[0mindexer\u001b[0m \u001b[1;33m=\u001b[0m \u001b[0mindexer\u001b[0m\u001b[1;33m[\u001b[0m\u001b[1;33m~\u001b[0m\u001b[0mmask\u001b[0m\u001b[1;33m]\u001b[0m\u001b[1;33m\u001b[0m\u001b[1;33m\u001b[0m\u001b[0m\n\u001b[0;32m   5593\u001b[0m         \u001b[1;32mreturn\u001b[0m \u001b[0mself\u001b[0m\u001b[1;33m.\u001b[0m\u001b[0mdelete\u001b[0m\u001b[1;33m(\u001b[0m\u001b[0mindexer\u001b[0m\u001b[1;33m)\u001b[0m\u001b[1;33m\u001b[0m\u001b[1;33m\u001b[0m\u001b[0m\n",
      "\u001b[1;31mKeyError\u001b[0m: \"['Unnamed: 10' 'Unnamed: 11'] not found in axis\""
     ]
    }
   ],
   "source": [
    "base = base.drop(columns=['Unnamed: 10','Unnamed: 11'], inplace=True)\n"
   ]
  },
  {
   "cell_type": "code",
   "execution_count": 32,
   "id": "71714160",
   "metadata": {
    "ExecuteTime": {
     "end_time": "2022-06-15T19:43:14.042933Z",
     "start_time": "2022-06-15T19:43:13.999858Z"
    }
   },
   "outputs": [
    {
     "data": {
      "text/html": [
       "<div>\n",
       "<style scoped>\n",
       "    .dataframe tbody tr th:only-of-type {\n",
       "        vertical-align: middle;\n",
       "    }\n",
       "\n",
       "    .dataframe tbody tr th {\n",
       "        vertical-align: top;\n",
       "    }\n",
       "\n",
       "    .dataframe thead th {\n",
       "        text-align: right;\n",
       "    }\n",
       "</style>\n",
       "<table border=\"1\" class=\"dataframe\">\n",
       "  <thead>\n",
       "    <tr style=\"text-align: right;\">\n",
       "      <th></th>\n",
       "      <th>data_solicitacao</th>\n",
       "      <th>data_venda</th>\n",
       "      <th>data_pagto</th>\n",
       "      <th>valor_venda</th>\n",
       "      <th>pol_comissao</th>\n",
       "      <th>valor_comissao</th>\n",
       "      <th>estado_cliente</th>\n",
       "      <th>estado_vendedor</th>\n",
       "      <th>produto</th>\n",
       "      <th>vendedor_id</th>\n",
       "    </tr>\n",
       "  </thead>\n",
       "  <tbody>\n",
       "    <tr>\n",
       "      <th>0</th>\n",
       "      <td>13/01/2021</td>\n",
       "      <td>12/01/2021</td>\n",
       "      <td>01/02/2021</td>\n",
       "      <td>NaN</td>\n",
       "      <td>un.</td>\n",
       "      <td>750.0</td>\n",
       "      <td>SC</td>\n",
       "      <td>PR</td>\n",
       "      <td>A</td>\n",
       "      <td>V_1</td>\n",
       "    </tr>\n",
       "    <tr>\n",
       "      <th>1</th>\n",
       "      <td>14/02/2021</td>\n",
       "      <td>16/02/2021</td>\n",
       "      <td>01/03/2021</td>\n",
       "      <td>NaN</td>\n",
       "      <td>un.</td>\n",
       "      <td>750.0</td>\n",
       "      <td>SC</td>\n",
       "      <td>PR</td>\n",
       "      <td>A</td>\n",
       "      <td>V_1</td>\n",
       "    </tr>\n",
       "    <tr>\n",
       "      <th>2</th>\n",
       "      <td>17/02/2021</td>\n",
       "      <td>18/02/2021</td>\n",
       "      <td>01/03/2021</td>\n",
       "      <td>NaN</td>\n",
       "      <td>un.</td>\n",
       "      <td>750.0</td>\n",
       "      <td>NaN</td>\n",
       "      <td>PR</td>\n",
       "      <td>A</td>\n",
       "      <td>V_23</td>\n",
       "    </tr>\n",
       "    <tr>\n",
       "      <th>3</th>\n",
       "      <td>21/03/2021</td>\n",
       "      <td>25/03/2021</td>\n",
       "      <td>01/04/2021</td>\n",
       "      <td>NaN</td>\n",
       "      <td>un.</td>\n",
       "      <td>750.0</td>\n",
       "      <td>NaN</td>\n",
       "      <td>PR</td>\n",
       "      <td>A</td>\n",
       "      <td>V_23</td>\n",
       "    </tr>\n",
       "    <tr>\n",
       "      <th>4</th>\n",
       "      <td>29/01/2021</td>\n",
       "      <td>31/01/2021</td>\n",
       "      <td>01/03/2021</td>\n",
       "      <td>NaN</td>\n",
       "      <td>un.</td>\n",
       "      <td>750.0</td>\n",
       "      <td>NaN</td>\n",
       "      <td>PR</td>\n",
       "      <td>A</td>\n",
       "      <td>V_30</td>\n",
       "    </tr>\n",
       "    <tr>\n",
       "      <th>...</th>\n",
       "      <td>...</td>\n",
       "      <td>...</td>\n",
       "      <td>...</td>\n",
       "      <td>...</td>\n",
       "      <td>...</td>\n",
       "      <td>...</td>\n",
       "      <td>...</td>\n",
       "      <td>...</td>\n",
       "      <td>...</td>\n",
       "      <td>...</td>\n",
       "    </tr>\n",
       "    <tr>\n",
       "      <th>994</th>\n",
       "      <td>NaN</td>\n",
       "      <td>NaN</td>\n",
       "      <td>NaN</td>\n",
       "      <td>NaN</td>\n",
       "      <td>NaN</td>\n",
       "      <td>NaN</td>\n",
       "      <td>NaN</td>\n",
       "      <td>NaN</td>\n",
       "      <td>NaN</td>\n",
       "      <td>NaN</td>\n",
       "    </tr>\n",
       "    <tr>\n",
       "      <th>995</th>\n",
       "      <td>NaN</td>\n",
       "      <td>NaN</td>\n",
       "      <td>NaN</td>\n",
       "      <td>NaN</td>\n",
       "      <td>NaN</td>\n",
       "      <td>NaN</td>\n",
       "      <td>NaN</td>\n",
       "      <td>NaN</td>\n",
       "      <td>NaN</td>\n",
       "      <td>NaN</td>\n",
       "    </tr>\n",
       "    <tr>\n",
       "      <th>996</th>\n",
       "      <td>NaN</td>\n",
       "      <td>NaN</td>\n",
       "      <td>NaN</td>\n",
       "      <td>NaN</td>\n",
       "      <td>NaN</td>\n",
       "      <td>NaN</td>\n",
       "      <td>NaN</td>\n",
       "      <td>NaN</td>\n",
       "      <td>NaN</td>\n",
       "      <td>NaN</td>\n",
       "    </tr>\n",
       "    <tr>\n",
       "      <th>997</th>\n",
       "      <td>NaN</td>\n",
       "      <td>NaN</td>\n",
       "      <td>NaN</td>\n",
       "      <td>NaN</td>\n",
       "      <td>NaN</td>\n",
       "      <td>NaN</td>\n",
       "      <td>NaN</td>\n",
       "      <td>NaN</td>\n",
       "      <td>NaN</td>\n",
       "      <td>NaN</td>\n",
       "    </tr>\n",
       "    <tr>\n",
       "      <th>998</th>\n",
       "      <td>NaN</td>\n",
       "      <td>NaN</td>\n",
       "      <td>NaN</td>\n",
       "      <td>NaN</td>\n",
       "      <td>NaN</td>\n",
       "      <td>NaN</td>\n",
       "      <td>NaN</td>\n",
       "      <td>NaN</td>\n",
       "      <td>NaN</td>\n",
       "      <td>NaN</td>\n",
       "    </tr>\n",
       "  </tbody>\n",
       "</table>\n",
       "<p>999 rows × 10 columns</p>\n",
       "</div>"
      ],
      "text/plain": [
       "    data_solicitacao  data_venda  data_pagto  valor_venda pol_comissao  \\\n",
       "0         13/01/2021  12/01/2021  01/02/2021          NaN          un.   \n",
       "1         14/02/2021  16/02/2021  01/03/2021          NaN          un.   \n",
       "2         17/02/2021  18/02/2021  01/03/2021          NaN          un.   \n",
       "3         21/03/2021  25/03/2021  01/04/2021          NaN          un.   \n",
       "4         29/01/2021  31/01/2021  01/03/2021          NaN          un.   \n",
       "..               ...         ...         ...          ...          ...   \n",
       "994              NaN         NaN         NaN          NaN          NaN   \n",
       "995              NaN         NaN         NaN          NaN          NaN   \n",
       "996              NaN         NaN         NaN          NaN          NaN   \n",
       "997              NaN         NaN         NaN          NaN          NaN   \n",
       "998              NaN         NaN         NaN          NaN          NaN   \n",
       "\n",
       "     valor_comissao estado_cliente estado_vendedor produto vendedor_id  \n",
       "0             750.0             SC              PR       A         V_1  \n",
       "1             750.0             SC              PR       A         V_1  \n",
       "2             750.0            NaN              PR       A        V_23  \n",
       "3             750.0            NaN              PR       A        V_23  \n",
       "4             750.0            NaN              PR       A        V_30  \n",
       "..              ...            ...             ...     ...         ...  \n",
       "994             NaN            NaN             NaN     NaN         NaN  \n",
       "995             NaN            NaN             NaN     NaN         NaN  \n",
       "996             NaN            NaN             NaN     NaN         NaN  \n",
       "997             NaN            NaN             NaN     NaN         NaN  \n",
       "998             NaN            NaN             NaN     NaN         NaN  \n",
       "\n",
       "[999 rows x 10 columns]"
      ]
     },
     "execution_count": 32,
     "metadata": {},
     "output_type": "execute_result"
    }
   ],
   "source": [
    "base"
   ]
  },
  {
   "cell_type": "code",
   "execution_count": null,
   "id": "175af587",
   "metadata": {},
   "outputs": [],
   "source": [
    "#replacing Not available values"
   ]
  },
  {
   "cell_type": "code",
   "execution_count": 35,
   "id": "6d4f6ab3",
   "metadata": {
    "ExecuteTime": {
     "end_time": "2022-06-15T19:48:07.656515Z",
     "start_time": "2022-06-15T19:48:07.628586Z"
    }
   },
   "outputs": [],
   "source": [
    "base = base.fillna('none')"
   ]
  },
  {
   "cell_type": "code",
   "execution_count": 37,
   "id": "c219230c",
   "metadata": {
    "ExecuteTime": {
     "end_time": "2022-06-15T19:53:57.905940Z",
     "start_time": "2022-06-15T19:53:57.868644Z"
    }
   },
   "outputs": [
    {
     "data": {
      "text/html": [
       "<div>\n",
       "<style scoped>\n",
       "    .dataframe tbody tr th:only-of-type {\n",
       "        vertical-align: middle;\n",
       "    }\n",
       "\n",
       "    .dataframe tbody tr th {\n",
       "        vertical-align: top;\n",
       "    }\n",
       "\n",
       "    .dataframe thead th {\n",
       "        text-align: right;\n",
       "    }\n",
       "</style>\n",
       "<table border=\"1\" class=\"dataframe\">\n",
       "  <thead>\n",
       "    <tr style=\"text-align: right;\">\n",
       "      <th></th>\n",
       "      <th>data_solicitacao</th>\n",
       "      <th>data_venda</th>\n",
       "      <th>data_pagto</th>\n",
       "      <th>valor_venda</th>\n",
       "      <th>pol_comissao</th>\n",
       "      <th>valor_comissao</th>\n",
       "      <th>estado_cliente</th>\n",
       "      <th>estado_vendedor</th>\n",
       "      <th>produto</th>\n",
       "      <th>vendedor_id</th>\n",
       "    </tr>\n",
       "  </thead>\n",
       "  <tbody>\n",
       "    <tr>\n",
       "      <th>0</th>\n",
       "      <td>13/01/2021</td>\n",
       "      <td>12/01/2021</td>\n",
       "      <td>01/02/2021</td>\n",
       "      <td>none</td>\n",
       "      <td>un.</td>\n",
       "      <td>750.0</td>\n",
       "      <td>SC</td>\n",
       "      <td>PR</td>\n",
       "      <td>A</td>\n",
       "      <td>V_1</td>\n",
       "    </tr>\n",
       "    <tr>\n",
       "      <th>1</th>\n",
       "      <td>14/02/2021</td>\n",
       "      <td>16/02/2021</td>\n",
       "      <td>01/03/2021</td>\n",
       "      <td>none</td>\n",
       "      <td>un.</td>\n",
       "      <td>750.0</td>\n",
       "      <td>SC</td>\n",
       "      <td>PR</td>\n",
       "      <td>A</td>\n",
       "      <td>V_1</td>\n",
       "    </tr>\n",
       "    <tr>\n",
       "      <th>2</th>\n",
       "      <td>17/02/2021</td>\n",
       "      <td>18/02/2021</td>\n",
       "      <td>01/03/2021</td>\n",
       "      <td>none</td>\n",
       "      <td>un.</td>\n",
       "      <td>750.0</td>\n",
       "      <td>none</td>\n",
       "      <td>PR</td>\n",
       "      <td>A</td>\n",
       "      <td>V_23</td>\n",
       "    </tr>\n",
       "    <tr>\n",
       "      <th>3</th>\n",
       "      <td>21/03/2021</td>\n",
       "      <td>25/03/2021</td>\n",
       "      <td>01/04/2021</td>\n",
       "      <td>none</td>\n",
       "      <td>un.</td>\n",
       "      <td>750.0</td>\n",
       "      <td>none</td>\n",
       "      <td>PR</td>\n",
       "      <td>A</td>\n",
       "      <td>V_23</td>\n",
       "    </tr>\n",
       "    <tr>\n",
       "      <th>4</th>\n",
       "      <td>29/01/2021</td>\n",
       "      <td>31/01/2021</td>\n",
       "      <td>01/03/2021</td>\n",
       "      <td>none</td>\n",
       "      <td>un.</td>\n",
       "      <td>750.0</td>\n",
       "      <td>none</td>\n",
       "      <td>PR</td>\n",
       "      <td>A</td>\n",
       "      <td>V_30</td>\n",
       "    </tr>\n",
       "    <tr>\n",
       "      <th>...</th>\n",
       "      <td>...</td>\n",
       "      <td>...</td>\n",
       "      <td>...</td>\n",
       "      <td>...</td>\n",
       "      <td>...</td>\n",
       "      <td>...</td>\n",
       "      <td>...</td>\n",
       "      <td>...</td>\n",
       "      <td>...</td>\n",
       "      <td>...</td>\n",
       "    </tr>\n",
       "    <tr>\n",
       "      <th>994</th>\n",
       "      <td>none</td>\n",
       "      <td>none</td>\n",
       "      <td>none</td>\n",
       "      <td>none</td>\n",
       "      <td>none</td>\n",
       "      <td>none</td>\n",
       "      <td>none</td>\n",
       "      <td>none</td>\n",
       "      <td>none</td>\n",
       "      <td>none</td>\n",
       "    </tr>\n",
       "    <tr>\n",
       "      <th>995</th>\n",
       "      <td>none</td>\n",
       "      <td>none</td>\n",
       "      <td>none</td>\n",
       "      <td>none</td>\n",
       "      <td>none</td>\n",
       "      <td>none</td>\n",
       "      <td>none</td>\n",
       "      <td>none</td>\n",
       "      <td>none</td>\n",
       "      <td>none</td>\n",
       "    </tr>\n",
       "    <tr>\n",
       "      <th>996</th>\n",
       "      <td>none</td>\n",
       "      <td>none</td>\n",
       "      <td>none</td>\n",
       "      <td>none</td>\n",
       "      <td>none</td>\n",
       "      <td>none</td>\n",
       "      <td>none</td>\n",
       "      <td>none</td>\n",
       "      <td>none</td>\n",
       "      <td>none</td>\n",
       "    </tr>\n",
       "    <tr>\n",
       "      <th>997</th>\n",
       "      <td>none</td>\n",
       "      <td>none</td>\n",
       "      <td>none</td>\n",
       "      <td>none</td>\n",
       "      <td>none</td>\n",
       "      <td>none</td>\n",
       "      <td>none</td>\n",
       "      <td>none</td>\n",
       "      <td>none</td>\n",
       "      <td>none</td>\n",
       "    </tr>\n",
       "    <tr>\n",
       "      <th>998</th>\n",
       "      <td>none</td>\n",
       "      <td>none</td>\n",
       "      <td>none</td>\n",
       "      <td>none</td>\n",
       "      <td>none</td>\n",
       "      <td>none</td>\n",
       "      <td>none</td>\n",
       "      <td>none</td>\n",
       "      <td>none</td>\n",
       "      <td>none</td>\n",
       "    </tr>\n",
       "  </tbody>\n",
       "</table>\n",
       "<p>999 rows × 10 columns</p>\n",
       "</div>"
      ],
      "text/plain": [
       "    data_solicitacao  data_venda  data_pagto valor_venda pol_comissao  \\\n",
       "0         13/01/2021  12/01/2021  01/02/2021        none          un.   \n",
       "1         14/02/2021  16/02/2021  01/03/2021        none          un.   \n",
       "2         17/02/2021  18/02/2021  01/03/2021        none          un.   \n",
       "3         21/03/2021  25/03/2021  01/04/2021        none          un.   \n",
       "4         29/01/2021  31/01/2021  01/03/2021        none          un.   \n",
       "..               ...         ...         ...         ...          ...   \n",
       "994             none        none        none        none         none   \n",
       "995             none        none        none        none         none   \n",
       "996             none        none        none        none         none   \n",
       "997             none        none        none        none         none   \n",
       "998             none        none        none        none         none   \n",
       "\n",
       "    valor_comissao estado_cliente estado_vendedor produto vendedor_id  \n",
       "0            750.0             SC              PR       A         V_1  \n",
       "1            750.0             SC              PR       A         V_1  \n",
       "2            750.0           none              PR       A        V_23  \n",
       "3            750.0           none              PR       A        V_23  \n",
       "4            750.0           none              PR       A        V_30  \n",
       "..             ...            ...             ...     ...         ...  \n",
       "994           none           none            none    none        none  \n",
       "995           none           none            none    none        none  \n",
       "996           none           none            none    none        none  \n",
       "997           none           none            none    none        none  \n",
       "998           none           none            none    none        none  \n",
       "\n",
       "[999 rows x 10 columns]"
      ]
     },
     "execution_count": 37,
     "metadata": {},
     "output_type": "execute_result"
    }
   ],
   "source": [
    "base"
   ]
  },
  {
   "cell_type": "code",
   "execution_count": null,
   "id": "e9e8e985",
   "metadata": {},
   "outputs": [],
   "source": [
    "#saving treated dataframe"
   ]
  },
  {
   "cell_type": "code",
   "execution_count": 38,
   "id": "5e12057b",
   "metadata": {
    "ExecuteTime": {
     "end_time": "2022-06-15T19:56:13.378289Z",
     "start_time": "2022-06-15T19:56:13.022164Z"
    }
   },
   "outputs": [],
   "source": [
    "base.to_csv(\"base_teste.csv\")"
   ]
  },
  {
   "cell_type": "markdown",
   "id": "9db0e56b",
   "metadata": {},
   "source": [
    "## Connecting MySQL Database with Python"
   ]
  },
  {
   "cell_type": "code",
   "execution_count": 39,
   "id": "2cb81117",
   "metadata": {
    "ExecuteTime": {
     "end_time": "2022-06-15T19:57:56.896383Z",
     "start_time": "2022-06-15T19:57:56.876433Z"
    }
   },
   "outputs": [],
   "source": [
    "import sqlalchemy as db #library to connect"
   ]
  },
  {
   "cell_type": "code",
   "execution_count": 40,
   "id": "3acdfbfe",
   "metadata": {
    "ExecuteTime": {
     "end_time": "2022-06-15T19:57:59.663500Z",
     "start_time": "2022-06-15T19:57:59.412539Z"
    }
   },
   "outputs": [],
   "source": [
    "#setting the connection\n",
    "\n",
    "db_server='pymysql'\n",
    "user='thaisdias'\n",
    "db_port = '3306'\n",
    "password = 'Thaishelena2908'\n",
    "ip = '127.0.0.1'\n",
    "db_name = 'franq_teste'\n",
    "engine = db.create_engine(f'mysql+{db_server}://{user}:{password}@{ip}:{db_port}/{db_name}?charset=utf8',pool_pre_ping=True)\n",
    "conn = engine.connect()"
   ]
  },
  {
   "cell_type": "code",
   "execution_count": 44,
   "id": "c1d5eb57",
   "metadata": {
    "ExecuteTime": {
     "end_time": "2022-06-15T20:00:50.883071Z",
     "start_time": "2022-06-15T20:00:50.859825Z"
    }
   },
   "outputs": [],
   "source": [
    "# reading dataset data_teste\n",
    "base_teste = pd.read_csv('base_teste.csv')"
   ]
  },
  {
   "cell_type": "code",
   "execution_count": 48,
   "id": "8e1164e2",
   "metadata": {
    "ExecuteTime": {
     "end_time": "2022-06-15T20:10:36.069516Z",
     "start_time": "2022-06-15T20:10:35.863035Z"
    }
   },
   "outputs": [],
   "source": [
    "#transfering dataframe to mysql\n",
    "base_teste.to_sql(name='base_teste', con=conn, if_exists='replace', index=False)"
   ]
  },
  {
   "cell_type": "code",
   "execution_count": 17,
   "id": "f43c6722",
   "metadata": {
    "ExecuteTime": {
     "end_time": "2022-06-15T19:23:17.565989Z",
     "start_time": "2022-06-15T19:23:16.887344Z"
    }
   },
   "outputs": [],
   "source": []
  }
 ],
 "metadata": {
  "kernelspec": {
   "display_name": "Python 3",
   "language": "python",
   "name": "python3"
  },
  "language_info": {
   "codemirror_mode": {
    "name": "ipython",
    "version": 3
   },
   "file_extension": ".py",
   "mimetype": "text/x-python",
   "name": "python",
   "nbconvert_exporter": "python",
   "pygments_lexer": "ipython3",
   "version": "3.8.8"
  },
  "toc": {
   "base_numbering": 1,
   "nav_menu": {},
   "number_sections": true,
   "sideBar": true,
   "skip_h1_title": false,
   "title_cell": "Table of Contents",
   "title_sidebar": "Contents",
   "toc_cell": false,
   "toc_position": {},
   "toc_section_display": true,
   "toc_window_display": false
  },
  "varInspector": {
   "cols": {
    "lenName": 16,
    "lenType": 16,
    "lenVar": 40
   },
   "kernels_config": {
    "python": {
     "delete_cmd_postfix": "",
     "delete_cmd_prefix": "del ",
     "library": "var_list.py",
     "varRefreshCmd": "print(var_dic_list())"
    },
    "r": {
     "delete_cmd_postfix": ") ",
     "delete_cmd_prefix": "rm(",
     "library": "var_list.r",
     "varRefreshCmd": "cat(var_dic_list()) "
    }
   },
   "types_to_exclude": [
    "module",
    "function",
    "builtin_function_or_method",
    "instance",
    "_Feature"
   ],
   "window_display": false
  }
 },
 "nbformat": 4,
 "nbformat_minor": 5
}
